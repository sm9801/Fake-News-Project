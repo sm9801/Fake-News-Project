{
 "cells": [
  {
   "cell_type": "markdown",
   "id": "2598d92c",
   "metadata": {},
   "source": [
    "To Do:\n",
    "- Apply sentiment analysis\n",
    "- news article -> model -> { fakeNews: false, sentiment: 0.23 }"
   ]
  },
  {
   "cell_type": "code",
   "execution_count": 113,
   "id": "7e4b6e28",
   "metadata": {},
   "outputs": [
    {
     "name": "stderr",
     "output_type": "stream",
     "text": [
      "[nltk_data] Downloading package subjectivity to\n",
      "[nltk_data]     /Users/samuelseokyukim/nltk_data...\n",
      "[nltk_data]   Package subjectivity is already up-to-date!\n",
      "[nltk_data] Downloading package vader_lexicon to\n",
      "[nltk_data]     /Users/samuelseokyukim/nltk_data...\n",
      "[nltk_data]   Package vader_lexicon is already up-to-date!\n"
     ]
    }
   ],
   "source": [
    "import numpy as np\n",
    "import pandas as pd\n",
    "import itertools\n",
    "import re\n",
    "from sklearn.model_selection import train_test_split\n",
    "from sklearn.feature_extraction.text import TfidfVectorizer\n",
    "from sklearn.linear_model import PassiveAggressiveClassifier\n",
    "from sklearn.metrics import accuracy_score, confusion_matrix\n",
    "from sklearn.linear_model import LogisticRegression\n",
    "from sklearn import metrics\n",
    "import matplotlib.pyplot as plt\n",
    "\n",
    "#from nltk.classify import NaiveBayesClassifier\n",
    "#from nltk.corpus import subjectivity\n",
    "#from nltk.sentiment import SentimentAnalyzer\n",
    "#from nltk.sentiment.util import *\n",
    "\n",
    "import nltk\n",
    "nltk.download('subjectivity')\n",
    "nltk.download('vader_lexicon')\n",
    "\n",
    "from nltk.sentiment.vader import SentimentIntensityAnalyzer\n",
    "\n",
    "# experiment using xgboost after encoding label with labelencoder\n",
    "from sklearn.preprocessing import LabelEncoder\n",
    "import xgboost as xgb\n",
    "from xgboost import XGBClassifier \n"
   ]
  },
  {
   "cell_type": "code",
   "execution_count": 114,
   "id": "ee61cd07",
   "metadata": {},
   "outputs": [
    {
     "data": {
      "text/html": [
       "<div>\n",
       "<style scoped>\n",
       "    .dataframe tbody tr th:only-of-type {\n",
       "        vertical-align: middle;\n",
       "    }\n",
       "\n",
       "    .dataframe tbody tr th {\n",
       "        vertical-align: top;\n",
       "    }\n",
       "\n",
       "    .dataframe thead th {\n",
       "        text-align: right;\n",
       "    }\n",
       "</style>\n",
       "<table border=\"1\" class=\"dataframe\">\n",
       "  <thead>\n",
       "    <tr style=\"text-align: right;\">\n",
       "      <th></th>\n",
       "      <th>Unnamed: 0</th>\n",
       "      <th>title</th>\n",
       "      <th>text</th>\n",
       "      <th>label</th>\n",
       "    </tr>\n",
       "  </thead>\n",
       "  <tbody>\n",
       "    <tr>\n",
       "      <th>0</th>\n",
       "      <td>8476</td>\n",
       "      <td>You Can Smell Hillary’s Fear</td>\n",
       "      <td>Daniel Greenfield, a Shillman Journalism Fello...</td>\n",
       "      <td>FAKE</td>\n",
       "    </tr>\n",
       "    <tr>\n",
       "      <th>1</th>\n",
       "      <td>10294</td>\n",
       "      <td>Watch The Exact Moment Paul Ryan Committed Pol...</td>\n",
       "      <td>Google Pinterest Digg Linkedin Reddit Stumbleu...</td>\n",
       "      <td>FAKE</td>\n",
       "    </tr>\n",
       "    <tr>\n",
       "      <th>2</th>\n",
       "      <td>3608</td>\n",
       "      <td>Kerry to go to Paris in gesture of sympathy</td>\n",
       "      <td>U.S. Secretary of State John F. Kerry said Mon...</td>\n",
       "      <td>REAL</td>\n",
       "    </tr>\n",
       "    <tr>\n",
       "      <th>3</th>\n",
       "      <td>10142</td>\n",
       "      <td>Bernie supporters on Twitter erupt in anger ag...</td>\n",
       "      <td>— Kaydee King (@KaydeeKing) November 9, 2016 T...</td>\n",
       "      <td>FAKE</td>\n",
       "    </tr>\n",
       "    <tr>\n",
       "      <th>4</th>\n",
       "      <td>875</td>\n",
       "      <td>The Battle of New York: Why This Primary Matters</td>\n",
       "      <td>It's primary day in New York and front-runners...</td>\n",
       "      <td>REAL</td>\n",
       "    </tr>\n",
       "  </tbody>\n",
       "</table>\n",
       "</div>"
      ],
      "text/plain": [
       "   Unnamed: 0                                              title  \\\n",
       "0        8476                       You Can Smell Hillary’s Fear   \n",
       "1       10294  Watch The Exact Moment Paul Ryan Committed Pol...   \n",
       "2        3608        Kerry to go to Paris in gesture of sympathy   \n",
       "3       10142  Bernie supporters on Twitter erupt in anger ag...   \n",
       "4         875   The Battle of New York: Why This Primary Matters   \n",
       "\n",
       "                                                text label  \n",
       "0  Daniel Greenfield, a Shillman Journalism Fello...  FAKE  \n",
       "1  Google Pinterest Digg Linkedin Reddit Stumbleu...  FAKE  \n",
       "2  U.S. Secretary of State John F. Kerry said Mon...  REAL  \n",
       "3  — Kaydee King (@KaydeeKing) November 9, 2016 T...  FAKE  \n",
       "4  It's primary day in New York and front-runners...  REAL  "
      ]
     },
     "execution_count": 114,
     "metadata": {},
     "output_type": "execute_result"
    }
   ],
   "source": [
    "# Read the data\n",
    "df = pd.read_csv('news.csv')\n",
    "\n",
    "# Get shape and head\n",
    "df.shape\n",
    "df.head()"
   ]
  },
  {
   "cell_type": "code",
   "execution_count": 115,
   "id": "e04c17cc",
   "metadata": {},
   "outputs": [
    {
     "data": {
      "text/plain": [
       "0    FAKE\n",
       "1    FAKE\n",
       "2    REAL\n",
       "3    FAKE\n",
       "4    REAL\n",
       "Name: label, dtype: object"
      ]
     },
     "execution_count": 115,
     "metadata": {},
     "output_type": "execute_result"
    }
   ],
   "source": [
    "# Get the labels\n",
    "X = df['text']\n",
    "y = df['label']\n",
    "y.head()"
   ]
  },
  {
   "cell_type": "code",
   "execution_count": 116,
   "id": "e07aaf8c",
   "metadata": {},
   "outputs": [],
   "source": [
    "# Split the dataset\n",
    "x_train_uncleaned, x_test_uncleaned, y_train, y_test = train_test_split(X, y, test_size = 0.2, random_state = 7)"
   ]
  },
  {
   "cell_type": "code",
   "execution_count": 117,
   "id": "11a34330",
   "metadata": {},
   "outputs": [],
   "source": [
    "# Loop through x_train_uncleaned and x_test_uncleaned and clean each article\n",
    "\n",
    "x_train = []\n",
    "x_test = []\n",
    "\n",
    "for document in x_train_uncleaned :\n",
    "    # Remove all the special characters\n",
    "    noSpecial = re.sub(r'\\W', ' ', document)\n",
    "\n",
    "    # Remove all single characters\n",
    "    #noSingle = re.sub(r'\\s+[a-zA-Z]\\s+', ' ', noSpecial)\n",
    "\n",
    "    # Remove single characters from the start\n",
    "    #noSingleFromStart = re.sub(r'\\^[a-zA-Z]\\s+', ' ', noSingle) \n",
    "\n",
    "    # Substituting multiple spaces with single space\n",
    "    noMultiSpace = re.sub(r'\\s+', ' ', noSpecial, flags = re.I)\n",
    "\n",
    "    # Removing prefixed 'b'\n",
    "    noPrefixed = re.sub(r'^b\\s+', '', noMultiSpace)\n",
    "\n",
    "    # Convert to Lowercase\n",
    "    lowercased = noPrefixed.lower()\n",
    "    \n",
    "    x_train.append(lowercased)\n",
    "    \n",
    "for document in x_test_uncleaned :\n",
    "    # Remove all the special characters\n",
    "    noSpecial = re.sub(r'\\W', ' ', document)\n",
    "\n",
    "    # Remove all single characters\n",
    "    #noSingle = re.sub(r'\\s+[a-zA-Z]\\s+', ' ', noSpecial)\n",
    "\n",
    "    # Remove single characters from the start\n",
    "    #noSingleFromStart = re.sub(r'\\^[a-zA-Z]\\s+', ' ', noSingle) \n",
    "\n",
    "    # Substituting multiple spaces with single space\n",
    "    noMultiSpace = re.sub(r'\\s+', ' ', noSpecial, flags = re.I)\n",
    "\n",
    "    # Removing prefixed 'b'\n",
    "    noPrefixed = re.sub(r'^b\\s+', '', noMultiSpace)\n",
    "\n",
    "    # Convert to Lowercase\n",
    "    lowercased = noPrefixed.lower()\n",
    "    \n",
    "    x_test.append(lowercased)\n",
    "\n",
    "\n"
   ]
  },
  {
   "cell_type": "code",
   "execution_count": 118,
   "id": "223084f8",
   "metadata": {},
   "outputs": [],
   "source": [
    "# Accepts a list of strings and pandas dataframe\n",
    "# Loop through each element in list or dataframe \n",
    "# Applies sentiment analysis\n",
    "\n",
    "def sentiment_analysis(articles_list) :\n",
    "    \n",
    "    for article in articles_list :\n",
    "        \n",
    "        # Initialize sentiment intensity analyzer\n",
    "        sentiment_analyzer = SentimentIntensityAnalyzer()\n",
    "        \n",
    "        # Print(article)\n",
    "        results = sentiment_analyzer.polarity_scores(article)\n",
    "        print('Sentiment analysis results: ')\n",
    "        \n",
    "        for k in sorted(results) :\n",
    "            print('{0}: {1}, '.format(k, results[k]), end = '')\n",
    "        print()\n",
    "        \n",
    "        print(\"Article was rated as\", results['neg'] * 100, \"% Negative\")\n",
    "        print(\"Article was rated as\", results['neu'] * 100, \"% Neutral\")\n",
    "        print(\"Article was rated as\", results['pos'] * 100, \"% Positive\")\n",
    "        print(\"Overall rating of the article:\", end = ' ')\n",
    "        \n",
    "        # Determine if an article is overall positive, negative, or neutral\n",
    "        if results['compound'] >= 0.05 :\n",
    "            print(\"Positive\")\n",
    " \n",
    "        elif results['compound'] <= - 0.05 :\n",
    "            print(\"Negative\")\n",
    " \n",
    "        else :\n",
    "            print(\"Neutral\")\n"
   ]
  },
  {
   "cell_type": "code",
   "execution_count": 119,
   "id": "be0f5466",
   "metadata": {},
   "outputs": [],
   "source": [
    "# Initialize TfidfVectorizer\n",
    "tfidf_vectorizer = TfidfVectorizer(max_features = 50000, \n",
    "                                   lowercase = False, \n",
    "                                   stop_words = 'english', \n",
    "                                   max_df = 0.7, \n",
    "                                   ngram_range = (1, 2))\n",
    "\n",
    "# Fit and transform train set, transform test set\n",
    "tfidf_train = tfidf_vectorizer.fit_transform(x_train) \n",
    "tfidf_test = tfidf_vectorizer.transform(x_test)\n"
   ]
  },
  {
   "cell_type": "code",
   "execution_count": 120,
   "id": "8dee6269",
   "metadata": {},
   "outputs": [
    {
     "name": "stdout",
     "output_type": "stream",
     "text": [
      "Accuracy of test: 93.84%\n"
     ]
    }
   ],
   "source": [
    "# Initialize PassiveAggressiveClassifier\n",
    "pac = PassiveAggressiveClassifier(max_iter = 500)\n",
    "pac.fit(tfidf_train, y_train)\n",
    "\n",
    "# Predict on the test set and calculate accuracy\n",
    "y_pred = pac.predict(tfidf_test)\n",
    "score = accuracy_score(y_test, y_pred)\n",
    "print(f'Accuracy of test: {round(score * 100, 2)}%')"
   ]
  },
  {
   "cell_type": "code",
   "execution_count": 121,
   "id": "b2f0eef8",
   "metadata": {},
   "outputs": [
    {
     "data": {
      "text/plain": [
       "array([[595,  34],\n",
       "       [ 44, 594]])"
      ]
     },
     "execution_count": 121,
     "metadata": {},
     "output_type": "execute_result"
    }
   ],
   "source": [
    "# Build confusion matrix: [[true positive, false negative], [false positive, true negative]]\n",
    "confusion_matrix(y_test, y_pred, labels = ['REAL', 'FAKE'])"
   ]
  },
  {
   "cell_type": "code",
   "execution_count": 122,
   "id": "54104590",
   "metadata": {},
   "outputs": [
    {
     "data": {
      "image/png": "[encoded data removed]",
      "text/plain": [
       "<Figure size 640x480 with 2 Axes>"
      ]
     },
     "metadata": {},
     "output_type": "display_data"
    }
   ],
   "source": [
    "# Display confusion matrix\n",
    "# Top left: true negative\n",
    "# Top right: false positive\n",
    "# Bottom left: false negative\n",
    "# Bottom right: true positive\n",
    "cm = metrics.confusion_matrix(y_test, y_pred)\n",
    "cm_display = metrics.ConfusionMatrixDisplay(confusion_matrix = cm, display_labels = ['FAKE', 'REAL'])\n",
    "cm_display.plot()\n",
    "plt.show()"
   ]
  },
  {
   "cell_type": "code",
   "execution_count": 123,
   "id": "2ddafff0",
   "metadata": {},
   "outputs": [
    {
     "name": "stdout",
     "output_type": "stream",
     "text": [
      "Results: REAL\n",
      "Accuracy of the results: 100.0%\n",
      "Sentiment analysis results: \n",
      "compound: -0.6524, neg: 0.075, neu: 0.866, pos: 0.059, \n",
      "Article was rated as 7.5 % Negative\n",
      "Article was rated as 86.6 % Neutral\n",
      "Article was rated as 5.8999999999999995 % Positive\n",
      "Overall rating of the article: Negative\n"
     ]
    }
   ],
   "source": [
    "# Test a random article from the Wall Street Journal\n",
    "expected_y = ['REAL']\n",
    "x_test_1 = ['Fishing is never an easy way to make a living, but it’s even harder when the federal bureaucracy can put you out of business on a whim. Herring fishermen are fighting back, with potentially large implications for the administrative state. In 2020 the National Marine Fisheries Service (NMFS) decreed that Atlantic herring fishermen must include a human monitor to ensure compliance with catch limits. The fishermen must pay for the monitor, though many are small, independent operators. By the fisheries service’s own estimate, its mandate costs each boat $710 a day. Depending on the catch, this is often more than the captains make on a trip. Even the service acknowledges that the monitoring cost will reduce herring operations’ annual returns by 20%. Enter the Cause of Action Institute, which sued the Commerce Department (which oversees the NMFS) in 2020 on behalf of fishermen in New Jersey. The suit claims Congress never authorized the bureaucratic cost-shift to the industry. The 1976 Magnuson-Stevens Act governs fishing in federal waters and allows the fisheries service to impose monitors. But nowhere in the law does Congress give the service power to force herring fishermen to fund the program. Congress has authorized industry-funded monitoring in other, specific contexts—including for certain North Pacific fisheries, and for foreign vessels. It did not do the same here. The fisheries service argues it has the legal right to impose the costs because the law is silent on the matter. The government points to language authorizing it to take steps that are “necessary and appropriate” to manage fisheries. Put another way, unless Congress explicitly prohibits an action, an agency can proceed. The case has moved up the appellate chain, and in August a divided panel of the D.C. Circuit Court of Appeals ruled for the government. Judges Sri Srinivasan and Judith Rogers cited the Supreme Court’s Chevron deference standard, finding that the law “through its silence, leaves room for agency discretion.” But Judge Justin Walker noted in dissent that this is a principle with no limit. He mused whether the fisheries service could find it “necessary” for fishermen to drive their federal monitors back and forth to the office to save on government gas bills, or whether it could demand fishermen finance other bureaucratic costs. The decision removes one of the few practical constraints on regulatory excess: a lack of resources. If government can write rules and require their targets to pay the costs without explicit Congressional approval, there will be no limit on bureaucratic discretion. The herring fishermen are asking the Supreme Court to hear the case and are represented by former Solicitor General Paul Clement. In West Virginia v. EPA this year, the Court used its major questions doctrine to rein in egregious regulatory overreach. But it has left Chevron as a largely unchecked license for regulators who can still do great harm without Congressional assent. Silence shouldn’t be a bureaucratic license to wreck livelihoods.']\n",
    "tfidf_vectorizer.fit_transform(x_train)\n",
    "tfidf_test_1 = tfidf_vectorizer.transform(x_test_1)\n",
    "actual_y = pac.predict(tfidf_test_1)\n",
    "score_1 = accuracy_score(expected_y, actual_y)\n",
    "\n",
    "if expected_y == actual_y :\n",
    "    print(\"Results:\", actual_y[0])\n",
    "\n",
    "elif expected_y == ['FAKE'] and actual_y == ['REAL'] :\n",
    "    print(\"Results are false positive: news is considered real when it isn't\")\n",
    "\n",
    "elif expected_y == ['REAL'] and actual_y == ['FAKE'] :\n",
    "    print(\"Results are false negative: news is considered fake when it isn't\")\n",
    "\n",
    "print(f'Accuracy of the results: {round(score_1 * 100, 2)}%')\n",
    "\n",
    "# Apply sentiment analysis\n",
    "sentiment_analysis(x_test_1)\n"
   ]
  },
  {
   "cell_type": "code",
   "execution_count": 124,
   "id": "5443a23e",
   "metadata": {},
   "outputs": [
    {
     "data": {
      "text/plain": [
       "array([[0, 1],\n",
       "       [0, 0]])"
      ]
     },
     "execution_count": 124,
     "metadata": {},
     "output_type": "execute_result"
    }
   ],
   "source": [
    "# We have a true positive. Confusion matrix of the article from WSJ\n",
    "confusion_matrix(expected_y_2, actual_y_2, labels = ['REAL', 'FAKE'])"
   ]
  },
  {
   "cell_type": "code",
   "execution_count": 125,
   "id": "95d29b96",
   "metadata": {},
   "outputs": [
    {
     "name": "stdout",
     "output_type": "stream",
     "text": [
      "Results are false negative: news is considered fake when it isn't\n",
      "Accuracy of the results: 0.0%\n",
      "Sentiment analysis results: \n",
      "compound: 0.9942, neg: 0.036, neu: 0.88, pos: 0.084, \n",
      "Article was rated as 3.5999999999999996 % Negative\n",
      "Article was rated as 88.0 % Neutral\n",
      "Article was rated as 8.4 % Positive\n",
      "Overall rating of the article: Positive\n"
     ]
    }
   ],
   "source": [
    "# Test a random article from CNN\n",
    "expected_y_2 = ['REAL']\n",
    "x_test_2 = ['Another batch of classified government records were found by President Joe Biden’s legal team, following the initial discovery of classified documents at his former think tank office in Washington this past fall. According to people briefed on the matter, the additional classified documents were found in a second location during searches that took place after lawyers found the initial classified documents. That effort led to the discovery of additional documents of interest to federal officials reviewing the matter, one of the sources said. NBC News first reported the new batch of classified documents. The discovery of the classified documents in his former office in November set off alarm bells inside the White House, where only a small circle of advisers and lawyers were aware of the matter. An effort was launched to search other locations where documents from Biden’s time as vice president may have been stored. The White House declined to comment on the matter. CNN previously reported that the initial batch discovered when Biden’s personal attorneys were packing files at his former private office contained 10 classified documents, including US intelligence materials and briefing memos about Ukraine, Iran and the United Kingdom. Some of the classified documents were “top secret,” the highest level. They were found in three or four boxes that also contained unclassified papers that fall under the Presidential Records Act, CNN has reported. Classified records are supposed to be stored in secure locations. And under the Presidential Records Act, White House records are supposed to go to the National Archives when an administration ends. It is unclear at this time how many documents were in the second batch of documents or what the documents were about. It is also unclear exactly where the new batch of materials were located. Prior to new reports about the second batch of government materials on Wednesday, the White House refused to answer a number of critical questions about the classified documents from Biden’s time as vice president discovered inside a private office last fall, citing an ongoing Department of Justice review. The documents were discovered on November 2, just six days before the midterm elections, but the president’s attorneys only publicly acknowledged the discovery of the documents on Monday – when news reports about the discovery broke. The government materials were found while closing out a Washington, DC-based office – the Penn Biden Center for Diplomacy and Global Engagement. The items discovered include 10 classified documents including US intelligence memos and briefing materials that covered topics including Ukraine, Iran and the United Kingdom, according to a source familiar with the matter. Biden said Tuesday that he did not know that some classified documents had been taken to his private office after he had left the vice presidency and that his attorneys “did what they should have done” by immediately contacting the National Archives and Records Administration after the documents were found in November. The documents, the president said, were found in “a box, locked cabinet – or at least a closet.” Still, key questions about the situation remain unanswered. White House press secretary Karine Jean-Pierre refused to answer a number questions about the documents, citing the Justice Department’s ongoing review of the matter. She could not say who brought the documents into the office or whether other documents were found. Nor could she say whether an audit was underway to locate other possible documents or when the president had been briefed on the discovery of the documents. She also could not provide assurances there weren’t any additional classified materials in any other offices. “This is under review by the Department of Justice. I’m not going to go beyond what the president shared yesterday,” Jean-Pierre said, repeating the explanation in so many words over the course of Wednesday’s press briefing. “I’m not going to go beyond what my colleagues at the White House counsel shared with all of you as well.” The situation has triggered criticism by Republicans, who argue that the federal government has set a political double standard in their approach to mishandled documents. But there is a stark contrast between the emerging scenario with Biden and the ongoing saga with former President Donald Trump – who, for instance, resisted turning over the documents in his possession. Trump’s legal team now believes they will benefit from the revelation that Biden had classified documents in his possession after he left office, multiple sources say. On Wednesday, Jean-Pierre could not answer critical questions about why Biden or his lawyers did not disclose the discovery to the public earlier, especially given the timing ahead of the 2022 elections. Jean-Pierre did say she’d spoken with Biden about the unfolding story as they were traveling in Mexico earlier this week. But she said she hadn’t spoken to the president about the documents themselves. Pressed on whether the way the situation has played out has undercut the president’s longstanding public commitment to transparency, Jean-Pierre responded, “When his lawyers realized that these documents were there, they turned them over to the Archives. They did the right thing.” Attorney General Merrick Garland has asked the US attorney in Chicago to review the matter, a source familiar with the matter previously told CNN, a process that is still in a preliminary stage. That US attorney, John Lausch Jr., has already completed the initial part of his inquiry, a source familiar with his work told CNN. He has provided his preliminary findings to Garland, the source said. That means Garland now faces a critical decision on how to proceed, including whether to open a full-blown criminal investigation. Garland was also personally involved in some of the key decision-making related to the Trump documents investigation and the decision to send the FBI to search Mar-a-Lago. Trump’s legal team has argued privately that the revelation of the documents in Biden’s possession puts Garland in a tough position of deciding whether to appoint a special counsel. While Republicans and Trump’s allies have drawn comparisons between the two, Trump had several hundred documents at his Mar-a-Lago residence and resisted the government’s efforts to retrieve them while Biden’s attorneys turned the documents over the day after finding them. Yet Trump’s legal team has discussed the matter internally and ultimately believes it will help their legal case, including their argument about how easy it is for former presidents to take documents labeled classified when they leave office. “This is huge for us,” one source close to the legal team told CNN. South Carolina Republican Sen. Lindsey Graham, who sits on the Senate Judiciary Committee, is calling on Garland to appoint a special counsel to investigate the matter. “I think if you believe a special counsel is necessary to assure the public about the handling of classified documents by Donald Trump, you should apply a special counsel to the mishandling of classified documents by President Biden when he was Vice President,” Graham said on Fox News earlier Wednesday. The White House is also facing bipartisan scrutiny from the Senate Intelligence Committee, the leaders of which sent a letter to Director of National Intelligence Avril Haines asking for access to the documents found at Biden’s private office, a spokesperson for Sen. Marco Rubio told CNN. The letter from Rubio and the committee’s chairman, Democratic Sen. Mark Warner of Virginia, also requests the DNI provide a damage assessment as well as a briefing on both the documents found at Biden’s office and those recovered from Trump’s Mar-a-Lago residence, the spokesperson added. Warner and Rubio submitted a nearly identical request for information following the Mar-a-Lago raid.']\n",
    "tfidf_vectorizer.fit_transform(x_train)\n",
    "tfidf_test_2 = tfidf_vectorizer.transform(x_test_2)\n",
    "actual_y_2 = clf.predict(tfidf_test_2)\n",
    "score_2 = accuracy_score(expected_y_2, actual_y_2)\n",
    "\n",
    "if expected_y_2 == actual_y_2 :\n",
    "    print(\"Results:\", actual_y_2[0])\n",
    "\n",
    "elif expected_y_2 == ['FAKE'] and actual_y_2 == ['REAL'] :\n",
    "    print(\"Results are false positive: news is considered real when it isn't\")\n",
    "\n",
    "elif expected_y_2 == ['REAL'] and actual_y_2 == ['FAKE'] :\n",
    "    print(\"Results are false negative: news is considered fake when it isn't\")\n",
    "\n",
    "print(f'Accuracy of the results: {round(score_2 * 100, 2)}%')\n",
    "\n",
    "# Apply sentiment analysis\n",
    "sentiment_analysis(x_test_2)\n"
   ]
  },
  {
   "cell_type": "code",
   "execution_count": 126,
   "id": "75c32068",
   "metadata": {},
   "outputs": [
    {
     "data": {
      "text/plain": [
       "array([[0, 1],\n",
       "       [0, 0]])"
      ]
     },
     "execution_count": 126,
     "metadata": {},
     "output_type": "execute_result"
    }
   ],
   "source": [
    "# We have a false negative... or is it? Confusion matrix of the article from CNN\n",
    "confusion_matrix(expected_y_2, actual_y_2, labels = ['REAL', 'FAKE'])"
   ]
  },
  {
   "cell_type": "code",
   "execution_count": 127,
   "id": "a3e42ebd",
   "metadata": {},
   "outputs": [
    {
     "name": "stdout",
     "output_type": "stream",
     "text": [
      "Results: FAKE\n",
      "Accuracy of the results: 100.0%\n",
      "Sentiment analysis results: \n",
      "compound: -0.1036, neg: 0.107, neu: 0.775, pos: 0.118, \n",
      "Article was rated as 10.7 % Negative\n",
      "Article was rated as 77.5 % Neutral\n",
      "Article was rated as 11.799999999999999 % Positive\n",
      "Overall rating of the article: Negative\n"
     ]
    }
   ],
   "source": [
    "# Test a random fake news article from the onion\n",
    "expected_y_3 = ['FAKE']\n",
    "x_test_3 = ['NEW YORK—Emphasizing that the researchers were by no means happy about these results, an unfortunate study published by Columbia University this week found that abusing restaurant waitstaff is the secret to living a longer, happier life. “After tracking thousands of individuals over a period of two decades, we can say with regrettable certainty that treating food service workers like subhuman garbage is the single most important factor in enhancing the length and quality of a human lifespan,” said the study’s lead author Dr. Elizabeth Mitran, who reluctantly explained that just 30 seconds of screaming at a waiter for slow entrées carries greater benefits than an hour of vigorous exercise.“We can’t in good conscience endorse this behavior, but every waiter you make cry adds another year to your life.”']\n",
    "tfidf_test_3 = tfidf_vectorizer.transform(x_test_3)\n",
    "actual_y_3 = pac.predict(tfidf_test_3)\n",
    "score_3 = accuracy_score(expected_y_3, actual_y_3)\n",
    "\n",
    "if expected_y_3 == actual_y_3 :\n",
    "    print(\"Results:\", actual_y_3[0])\n",
    "\n",
    "elif expected_y_3 == ['FAKE'] and actual_y_3 == ['REAL'] :\n",
    "    print(\"Results are false positive: news is considered real when it isn't\")\n",
    "\n",
    "elif expected_y_3 == ['REAL'] and actual_y_3 == ['FAKE'] :\n",
    "    print(\"Results are false negative: news is considered fake when it isn't\")\n",
    "\n",
    "print(f'Accuracy of the results: {round(score_3 * 100, 2)}%')\n",
    "\n",
    "# Apply sentiment analysis\n",
    "sentiment_analysis(x_test_3)\n"
   ]
  },
  {
   "cell_type": "code",
   "execution_count": 128,
   "id": "73fcfa1e",
   "metadata": {},
   "outputs": [
    {
     "data": {
      "text/plain": [
       "array([[0, 0],\n",
       "       [0, 1]])"
      ]
     },
     "execution_count": 128,
     "metadata": {},
     "output_type": "execute_result"
    }
   ],
   "source": [
    "# Confusion matrix of the fake news article\n",
    "confusion_matrix(expected_y_3, actual_y_3, labels = ['REAL', 'FAKE'])"
   ]
  },
  {
   "cell_type": "code",
   "execution_count": 129,
   "id": "912e4cd1",
   "metadata": {},
   "outputs": [
    {
     "data": {
      "text/plain": [
       "list"
      ]
     },
     "execution_count": 129,
     "metadata": {},
     "output_type": "execute_result"
    }
   ],
   "source": [
    "type(x_test)"
   ]
  },
  {
   "cell_type": "code",
   "execution_count": null,
   "id": "0c10ea60",
   "metadata": {},
   "outputs": [],
   "source": []
  }
 ],
 "metadata": {
  "kernelspec": {
   "display_name": "Python 3 (ipykernel)",
   "language": "python",
   "name": "python3"
  },
  "language_info": {
   "codemirror_mode": {
    "name": "ipython",
    "version": 3
   },
   "file_extension": ".py",
   "mimetype": "text/x-python",
   "name": "python",
   "nbconvert_exporter": "python",
   "pygments_lexer": "ipython3",
   "version": "3.9.13"
  }
 },
 "nbformat": 4,
 "nbformat_minor": 5
}
